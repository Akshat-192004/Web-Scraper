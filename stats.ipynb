{
 "cells": [
  {
   "cell_type": "code",
   "execution_count": 4,
   "metadata": {},
   "outputs": [
    {
     "name": "stdout",
     "output_type": "stream",
     "text": [
      "Total number of records:  835605\n",
      "Unique records:  677561\n"
     ]
    }
   ],
   "source": [
    "import json\n",
    "\n",
    "BASE_FOLDER = \"optimized_documents\"\n",
    "\n",
    "\n",
    "with open(\"stage3.json\", \"r\") as f:\n",
    "  data = json.load(f)\n",
    "  \n",
    "print(\"Total number of records: \", len(data))\n",
    "print(\"Unique records: \", len(set([d[\"url\"] for d in data])))"
   ]
  },
  {
   "cell_type": "code",
   "execution_count": 3,
   "metadata": {},
   "outputs": [
    {
     "name": "stdout",
     "output_type": "stream",
     "text": [
      "Time Elapsed: 00:19:24\n",
      "Total files: 14472\n",
      "Total logs: 14457\n",
      "Total .docx files: 13209\n",
      "Total .pdf files: 1263\n"
     ]
    }
   ],
   "source": [
    "import os\n",
    "import time\n",
    "\n",
    "BASE_FOLDER = \"optimized_documents\"\n",
    "\n",
    "docx = 0\n",
    "pdf = 0\n",
    "\n",
    "for root, dirs, files in os.walk(os.path.join(BASE_FOLDER)):\n",
    "    for file in files:\n",
    "        if file.endswith(\".docx\"):\n",
    "            docx += 1\n",
    "        if file.endswith(\".pdf\"):\n",
    "            pdf += 1\n",
    "\n",
    "with open(\"new_logs.log\", \"r\") as logs:\n",
    "    logs = logs.read()\n",
    "    logs = logs.split(\"\\n\")\n",
    "    start = logs[0].split(\" - \")[0].split(\",\")[0]\n",
    "    start_time = time.mktime(time.strptime(start, \"%Y-%m-%d %H:%M:%S\"))\n",
    "    current_time = time.time()\n",
    "    time_diff = current_time - start_time\n",
    "    time = time.strftime(\"%H:%M:%S\", time.gmtime(time_diff))\n",
    "    logs = [log for log in logs if log]\n",
    "    \n",
    "print(f\"Time Elapsed: {time}\")\n",
    "print(f\"Total files: {docx + pdf}\")\n",
    "print(f\"Total logs: {len(logs)}\")\n",
    "print(f\"Total .docx files: {docx}\")\n",
    "print(f\"Total .pdf files: {pdf}\")"
   ]
  },
  {
   "cell_type": "code",
   "execution_count": 2,
   "metadata": {},
   "outputs": [
    {
     "name": "stdout",
     "output_type": "stream",
     "text": [
      "Total urls done: 14404\n",
      "Total urls left: 663157\n"
     ]
    }
   ],
   "source": [
    "import json\n",
    "\n",
    "with open(\"stage3.json\", \"r\") as f:\n",
    "    metadata = json.load(f)\n",
    "    \n",
    "all_urls = [d[\"url\"] for d in metadata]\n",
    "\n",
    "with open(\"new_logs.log\", \"r\") as logs:\n",
    "    logs = logs.read()\n",
    "    logs = logs.split(\"\\n\")\n",
    "    logs = [log for log in logs if log]\n",
    "    indexes_fetched = [int(log[35:]) for log in logs]\n",
    "\n",
    "urls_done = [all_urls[i] for i in indexes_fetched]\n",
    "urls_done = sorted(set(urls_done))\n",
    "\n",
    "with open(\"urls_done.txt\", \"w\") as f:\n",
    "    f.write(\"\\n\".join(urls_done))\n",
    "print(f\"Total urls done: {len(urls_done)}\")\n",
    "\n",
    "unique_urls_left = list(set(all_urls) - set(urls_done))\n",
    "unique_urls_left = sorted(unique_urls_left)\n",
    "print(f\"Total urls left: {len(unique_urls_left)}\")\n",
    "with open(\"urls_left.txt\", \"w\") as f:\n",
    "    f.write(\"\\n\".join(unique_urls_left))"
   ]
  }
 ],
 "metadata": {
  "kernelspec": {
   "display_name": "Python 3",
   "language": "python",
   "name": "python3"
  },
  "language_info": {
   "codemirror_mode": {
    "name": "ipython",
    "version": 3
   },
   "file_extension": ".py",
   "mimetype": "text/x-python",
   "name": "python",
   "nbconvert_exporter": "python",
   "pygments_lexer": "ipython3",
   "version": "3.11.5"
  }
 },
 "nbformat": 4,
 "nbformat_minor": 2
}
