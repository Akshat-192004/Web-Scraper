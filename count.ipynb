{
 "cells": [
  {
   "cell_type": "code",
   "execution_count": 1,
   "metadata": {},
   "outputs": [
    {
     "name": "stdout",
     "output_type": "stream",
     "text": [
      "Grand total number of URLs across all files: 684128\n"
     ]
    }
   ],
   "source": [
    "import os\n",
    "import json\n",
    "from concurrent.futures import ThreadPoolExecutor\n",
    "\n",
    "dir_name = \"optimized_documents\"\n",
    "\n",
    "def count_urls(data):\n",
    "    urls = data.get(\"data\", [])\n",
    "    return len(urls)\n",
    "\n",
    "\n",
    "def process_folder(folder_1, folder_2, file):\n",
    "    with open(os.path.join(f\"./stage4/{folder_1}/{folder_2}/{file}\"), \"rb\") as f:\n",
    "        data = json.loads(f.read())\n",
    "        total_count = count_urls(data)\n",
    "        # print(f\"Total number of URLs in {file}: {total_count}\")\n",
    "        return total_count\n",
    "\n",
    "if __name__ == \"__main__\":\n",
    "    stage4 = os.listdir(\"./stage4\")\n",
    "    total_urls = 0\n",
    "\n",
    "    with ThreadPoolExecutor(max_workers=25) as executor:\n",
    "        for folder_1 in stage4:\n",
    "            stage4_folder1 = os.listdir(f\"./stage4/{folder_1}\")\n",
    "            for folder_2 in stage4_folder1:\n",
    "                files = os.listdir(f\"./stage4/{folder_1}/{folder_2}\")\n",
    "                file = files[0]\n",
    "                total_urls += executor.submit(process_folder, folder_1, folder_2, file).result()\n",
    "\n",
    "    print(f\"Grand total number of URLs across all files: {total_urls}\")\n"
   ]
  }
 ],
 "metadata": {
  "kernelspec": {
   "display_name": "Python 3",
   "language": "python",
   "name": "python3"
  },
  "language_info": {
   "codemirror_mode": {
    "name": "ipython",
    "version": 3
   },
   "file_extension": ".py",
   "mimetype": "text/x-python",
   "name": "python",
   "nbconvert_exporter": "python",
   "pygments_lexer": "ipython3",
   "version": "3.11.8"
  }
 },
 "nbformat": 4,
 "nbformat_minor": 2
}
